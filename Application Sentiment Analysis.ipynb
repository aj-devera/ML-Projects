{
 "cells": [
  {
   "cell_type": "markdown",
   "id": "99f32990-7511-413f-81e3-b7464fa4a08b",
   "metadata": {},
   "source": [
    "# Imports and Other Initializations"
   ]
  },
  {
   "cell_type": "markdown",
   "id": "641e8ca8-6480-4279-8745-fef959efa25d",
   "metadata": {},
   "source": [
    "So previously, we determined that the huggingface model was the best model among the three (VADER and RoBERTa). Therefore, this is the model we will use."
   ]
  },
  {
   "cell_type": "code",
   "execution_count": 1,
   "id": "f8a1cfe4-0902-4762-89f4-d3476dc37fae",
   "metadata": {},
   "outputs": [],
   "source": [
    "import os\n",
    "import time\n",
    "import numpy as np\n",
    "import pandas as pd\n",
    "import seaborn as sns\n",
    "from sklearn.metrics import mean_squared_error\n",
    "import zipfile\n",
    "import matplotlib.pyplot as plt\n",
    "from transformers import pipeline\n",
    "from sklearn.preprocessing import OneHotEncoder, OrdinalEncoder\n",
    "from sklearn.metrics import precision_score, recall_score, f1_score, confusion_matrix"
   ]
  },
  {
   "cell_type": "markdown",
   "id": "1823fb04-3f98-4205-af14-d0f10c3ca3e1",
   "metadata": {},
   "source": [
    "Let's use the IMDB Reviews dataset. (Link: https://www.kaggle.com/datasets/lakshmi25npathi/imdb-dataset-of-50k-movie-reviews)"
   ]
  },
  {
   "cell_type": "code",
   "execution_count": 2,
   "id": "c8878bce-82c4-4d2b-bb7b-b15ca914b14a",
   "metadata": {},
   "outputs": [],
   "source": [
    "import torch\n",
    "\n",
    "# Check the number of available GPUs\n",
    "num_gpus = torch.cuda.device_count()\n",
    "\n",
    "# Print the number of CUDA cores per GPU\n",
    "for i in range(num_gpus):\n",
    "    print(\"GPU {} has {} CUDA cores.\".format(i, torch.cuda.get_device_properties(i).multi_processor_count * 128))\n"
   ]
  },
  {
   "cell_type": "code",
   "execution_count": 3,
   "id": "6bafe9d8-dafa-411a-a260-280290f209b1",
   "metadata": {},
   "outputs": [
    {
     "data": {
      "text/plain": [
       "0"
      ]
     },
     "execution_count": 3,
     "metadata": {},
     "output_type": "execute_result"
    }
   ],
   "source": [
    "num_gpus"
   ]
  },
  {
   "cell_type": "code",
   "execution_count": 4,
   "id": "9b28651c-6dca-4a94-80d2-13d6d530ef47",
   "metadata": {},
   "outputs": [
    {
     "data": {
      "text/plain": [
       "False"
      ]
     },
     "execution_count": 4,
     "metadata": {},
     "output_type": "execute_result"
    }
   ],
   "source": [
    "torch.cuda.is_available()"
   ]
  },
  {
   "cell_type": "code",
   "execution_count": 5,
   "id": "036bb6fe-553b-4f21-a48d-4ec62e8bd2d3",
   "metadata": {},
   "outputs": [],
   "source": [
    "os.environ['CUDA_VISIBLE_DEVICES'] = '0'"
   ]
  },
  {
   "cell_type": "code",
   "execution_count": 6,
   "id": "34b17b2f-4dad-4730-a62b-ec483a8b39f2",
   "metadata": {},
   "outputs": [],
   "source": [
    "if \"IMDB Dataset.csv\" not in os.listdir():\n",
    "    IMDB_zip = zipfile.ZipFile(\"IMDB Movie Reviews.zip\")\n",
    "    IMDB_zip.extractall()\n",
    "    IMDB_zip.close()"
   ]
  },
  {
   "cell_type": "markdown",
   "id": "eab9e18d-2149-4828-929d-1cc8c0d9604d",
   "metadata": {},
   "source": [
    "# Creating the DataFrame"
   ]
  },
  {
   "cell_type": "code",
   "execution_count": 7,
   "id": "91c2c98d-a682-4647-ba81-901026e807d4",
   "metadata": {},
   "outputs": [
    {
     "data": {
      "text/html": [
       "<div>\n",
       "<style scoped>\n",
       "    .dataframe tbody tr th:only-of-type {\n",
       "        vertical-align: middle;\n",
       "    }\n",
       "\n",
       "    .dataframe tbody tr th {\n",
       "        vertical-align: top;\n",
       "    }\n",
       "\n",
       "    .dataframe thead th {\n",
       "        text-align: right;\n",
       "    }\n",
       "</style>\n",
       "<table border=\"1\" class=\"dataframe\">\n",
       "  <thead>\n",
       "    <tr style=\"text-align: right;\">\n",
       "      <th></th>\n",
       "      <th>review</th>\n",
       "      <th>sentiment</th>\n",
       "    </tr>\n",
       "  </thead>\n",
       "  <tbody>\n",
       "    <tr>\n",
       "      <th>0</th>\n",
       "      <td>One of the other reviewers has mentioned that ...</td>\n",
       "      <td>positive</td>\n",
       "    </tr>\n",
       "    <tr>\n",
       "      <th>1</th>\n",
       "      <td>A wonderful little production. &lt;br /&gt;&lt;br /&gt;The...</td>\n",
       "      <td>positive</td>\n",
       "    </tr>\n",
       "    <tr>\n",
       "      <th>2</th>\n",
       "      <td>I thought this was a wonderful way to spend ti...</td>\n",
       "      <td>positive</td>\n",
       "    </tr>\n",
       "    <tr>\n",
       "      <th>3</th>\n",
       "      <td>Basically there's a family where a little boy ...</td>\n",
       "      <td>negative</td>\n",
       "    </tr>\n",
       "    <tr>\n",
       "      <th>4</th>\n",
       "      <td>Petter Mattei's \"Love in the Time of Money\" is...</td>\n",
       "      <td>positive</td>\n",
       "    </tr>\n",
       "  </tbody>\n",
       "</table>\n",
       "</div>"
      ],
      "text/plain": [
       "                                              review sentiment\n",
       "0  One of the other reviewers has mentioned that ...  positive\n",
       "1  A wonderful little production. <br /><br />The...  positive\n",
       "2  I thought this was a wonderful way to spend ti...  positive\n",
       "3  Basically there's a family where a little boy ...  negative\n",
       "4  Petter Mattei's \"Love in the Time of Money\" is...  positive"
      ]
     },
     "execution_count": 7,
     "metadata": {},
     "output_type": "execute_result"
    }
   ],
   "source": [
    "df = pd.read_csv(\"IMDB Dataset.csv\")\n",
    "df.head()"
   ]
  },
  {
   "cell_type": "code",
   "execution_count": 8,
   "id": "db1b1464-2848-439e-b577-1c8352bfec4c",
   "metadata": {},
   "outputs": [
    {
     "name": "stdout",
     "output_type": "stream",
     "text": [
      "<class 'pandas.core.frame.DataFrame'>\n",
      "RangeIndex: 50000 entries, 0 to 49999\n",
      "Data columns (total 2 columns):\n",
      " #   Column     Non-Null Count  Dtype \n",
      "---  ------     --------------  ----- \n",
      " 0   review     50000 non-null  object\n",
      " 1   sentiment  50000 non-null  object\n",
      "dtypes: object(2)\n",
      "memory usage: 781.4+ KB\n"
     ]
    }
   ],
   "source": [
    "df.info()"
   ]
  },
  {
   "cell_type": "markdown",
   "id": "85b7c29d-57af-40dc-b0fd-69b09a61aa7e",
   "metadata": {},
   "source": [
    "We can see that the dataset only has 2 columns and 50,000 entries. Since we don't need to train the huggingface model, let's predict right away and compare the predictions to the true sentiments."
   ]
  },
  {
   "cell_type": "code",
   "execution_count": 9,
   "id": "127025bf-f268-4065-9349-c50b864451e1",
   "metadata": {},
   "outputs": [],
   "source": [
    "# Creating a column for the ID\n",
    "df = df.reset_index().rename(columns={'index': 'ID'})"
   ]
  },
  {
   "cell_type": "markdown",
   "id": "15869246-838d-4f03-ba94-f66555506c7e",
   "metadata": {},
   "source": [
    "# Applying the Model to the Dataset"
   ]
  },
  {
   "cell_type": "markdown",
   "id": "b0c23436-26ed-4d73-ab93-f99d8d47bc1a",
   "metadata": {},
   "source": [
    "This can be done using Google Colab"
   ]
  },
  {
   "cell_type": "code",
   "execution_count": 10,
   "id": "90f75412-a68e-4163-9315-3413b40c9c36",
   "metadata": {},
   "outputs": [],
   "source": [
    "# Preparing the model\n",
    "# inference_model = pipeline(\"sentiment-analysis\")"
   ]
  },
  {
   "cell_type": "markdown",
   "id": "07aea128-29cd-498a-9c19-e56ae9e281f4",
   "metadata": {},
   "source": [
    "Using the huggingface model to make an inference on each entry of the IMDB Movie Review dataset"
   ]
  },
  {
   "cell_type": "code",
   "execution_count": 11,
   "id": "e4ad3142-3ba1-4d3d-b25e-e229ff26358c",
   "metadata": {},
   "outputs": [],
   "source": [
    "# model_predictions = {'predictions': [], 'ID': []}\n",
    "# start = time.time()\n",
    "\n",
    "# for ID in df['ID']:\n",
    "#     try:\n",
    "#         prediction = inference_model(df['review'][ID])\n",
    "#         model_predictions['predictions'].append(prediction)\n",
    "#         model_predictions['ID'].append(ID)\n",
    "#     except RuntimeError:\n",
    "#         print(f'Broke for ID {ID}')\n",
    "\n",
    "# end = time.time()\n",
    "# print(f'It took {np.round(end-start, 2)} to make an inference on the whole dataset')\n",
    "# model_predictions"
   ]
  },
  {
   "cell_type": "markdown",
   "id": "5d776859-89ff-4aeb-b62e-e62e749426e3",
   "metadata": {},
   "source": [
    "We can see that the model is broke or having errors (RuntimeError to be specific) on numerous reviews (as shown in the ID number). We will need to clean the dataset to make a comparison between the predicted sentiment and the true ones."
   ]
  },
  {
   "cell_type": "markdown",
   "id": "5cbd4ad7-7fee-4eac-89b9-eb5a51ed2a4c",
   "metadata": {},
   "source": [
    "# Preprocessing the Results"
   ]
  },
  {
   "cell_type": "code",
   "execution_count": 12,
   "id": "0cb55321-c15e-4936-9cff-89176fa4a1ff",
   "metadata": {},
   "outputs": [],
   "source": [
    "def encoded_values(series_arr, encoder):\n",
    "    values = series_arr.to_numpy().reshape(-1,1)\n",
    "    values = encoder.fit_transform(values)\n",
    "    # If one-hot encoding was used\n",
    "    try:\n",
    "        values = values.toarray()\n",
    "    except AttributeError:\n",
    "        values = values\n",
    "    return values\n",
    "    \n",
    "def get_accuracy(true_vals, predicted_vals):\n",
    "    return np.round((predicted_vals/true_vals)*100, 2)\n",
    "\n",
    "def get_rmse(true_vals, predicted_vals):\n",
    "    return np.sqrt(mean_squared_error(true_vals, predicted_vals))"
   ]
  },
  {
   "cell_type": "code",
   "execution_count": 13,
   "id": "59e09f69-890b-445c-a3a8-2bf65df8350f",
   "metadata": {},
   "outputs": [],
   "source": [
    "# Load the csv\n",
    "df2 = pd.read_csv(\"model_predictions.csv\")\n",
    "\n",
    "# To remove the broken IDs from the original dataframe\n",
    "mask = df['review'].isin(df2['review'])\n",
    "df_filtered = df[mask]\n",
    "df_filtered\n",
    "\n",
    "# merging the two dataframes\n",
    "final_df = df2.merge(df_filtered, how='right')"
   ]
  },
  {
   "cell_type": "code",
   "execution_count": 14,
   "id": "f75d73e8-b7b0-49fe-88fc-40b9db0872b3",
   "metadata": {},
   "outputs": [],
   "source": [
    "correct_predictions = 0\n",
    "total = len(final_df['sentiment'])\n",
    "\n",
    "for index, row in final_df.iterrows():\n",
    "    prediction = row['prediction'].lower()\n",
    "    if prediction == row['sentiment']:\n",
    "        correct_predictions += 1"
   ]
  },
  {
   "cell_type": "code",
   "execution_count": 15,
   "id": "8b867a89-e2cd-4217-8067-d58ede856687",
   "metadata": {},
   "outputs": [],
   "source": [
    "ordinal_true_vals = encoded_values(final_df['sentiment'], OrdinalEncoder())\n",
    "ordinal_pred_vals = encoded_values(final_df['prediction'], OrdinalEncoder())\n",
    "\n",
    "one_hot_true_vals = encoded_values(final_df['sentiment'], OneHotEncoder())\n",
    "one_hot_pred_vals = encoded_values(final_df['prediction'], OneHotEncoder())"
   ]
  },
  {
   "cell_type": "markdown",
   "id": "0ddbb895-8765-4efa-b158-9e03c8ee004f",
   "metadata": {},
   "source": [
    "# Performance of the Inference Model"
   ]
  },
  {
   "cell_type": "markdown",
   "id": "9cac369d-1941-4de3-8528-789da13a1148",
   "metadata": {},
   "source": [
    "## Accuracy, MSE, and RMSE"
   ]
  },
  {
   "cell_type": "code",
   "execution_count": 16,
   "id": "831b57e9-a0d9-44ac-92f5-a77ff15af7a8",
   "metadata": {},
   "outputs": [
    {
     "name": "stdout",
     "output_type": "stream",
     "text": [
      "Accuracy: 90.05%\n",
      "Mean Squared Error: 9.95 (Ordinal)\t9.95 (OneHot)\n",
      "RMSE: 31.55 (Ordinal)\t31.55 (OneHot)\n"
     ]
    }
   ],
   "source": [
    "print(f'Accuracy: {get_accuracy(total, correct_predictions)}%')\n",
    "print(f'Mean Squared Error: {np.round(mean_squared_error(ordinal_true_vals, ordinal_pred_vals)*100,2)} (Ordinal)\\t{np.round(mean_squared_error(one_hot_true_vals, one_hot_pred_vals)*100,2)} (OneHot)')\n",
    "print(f'RMSE: {np.round(get_rmse(ordinal_true_vals, ordinal_pred_vals)*100,2)} (Ordinal)\\t{np.round(get_rmse(one_hot_true_vals, one_hot_pred_vals)*100,2)} (OneHot)')"
   ]
  },
  {
   "cell_type": "markdown",
   "id": "c9647376-8bfd-4ca1-ac86-4000693a49f6",
   "metadata": {},
   "source": [
    "## Precision, Recall, and F1-Score"
   ]
  },
  {
   "cell_type": "code",
   "execution_count": 17,
   "id": "57ba232c-cf97-4b3f-ad0a-1dcf0e2ca647",
   "metadata": {},
   "outputs": [
    {
     "name": "stdout",
     "output_type": "stream",
     "text": [
      "ORDINAL ENCODED\n",
      "Precision:  91.25\n",
      "Recall:  88.33\n",
      "F1 Score:  89.77\n",
      "\n",
      "ONE HOT ENCODED\n",
      "Precision:  90.1\n",
      "Recall:  90.03\n",
      "F1-Score:  90.04\n"
     ]
    }
   ],
   "source": [
    "print('ORDINAL ENCODED')\n",
    "print('Precision: ', np.round(precision_score(ordinal_true_vals, ordinal_pred_vals)*100,2))\n",
    "print('Recall: ', np.round(recall_score(ordinal_true_vals, ordinal_pred_vals)*100,2))\n",
    "print('F1 Score: ', np.round(f1_score(ordinal_true_vals, ordinal_pred_vals)*100,2))\n",
    "\n",
    "print('\\nONE HOT ENCODED')\n",
    "print('Precision: ', np.round(precision_score(one_hot_true_vals.argmax(axis=1), one_hot_pred_vals.argmax(axis=1), average='macro')*100, 2))\n",
    "print('Recall: ', np.round(recall_score(one_hot_true_vals.argmax(axis=1), one_hot_pred_vals.argmax(axis=1), average='macro')*100, 2))\n",
    "print('F1-Score: ', np.round(f1_score(one_hot_true_vals.argmax(axis=1), one_hot_pred_vals.argmax(axis=1), average='macro')*100, 2))"
   ]
  },
  {
   "cell_type": "markdown",
   "id": "a1ab91f6-4d96-4a04-89ee-2f6117d3c3b4",
   "metadata": {},
   "source": [
    "The mean squared error and RMSE using both encoders were similar; however, there is a slight deviation in terms of precision, recall, and F1-score."
   ]
  },
  {
   "cell_type": "markdown",
   "id": "aeea7c89-7f48-4bbe-9489-5f1498fe3ac1",
   "metadata": {},
   "source": [
    "## Confusion Matrix"
   ]
  },
  {
   "cell_type": "code",
   "execution_count": 18,
   "id": "83ee95e3-badd-49d3-9400-a123c31f244b",
   "metadata": {},
   "outputs": [
    {
     "data": {
      "image/png": "[encoded data removed]",
      "text/plain": [
       "<Figure size 1080x720 with 2 Axes>"
      ]
     },
     "metadata": {
      "needs_background": "light"
     },
     "output_type": "display_data"
    }
   ],
   "source": [
    "conf_mx = confusion_matrix(one_hot_true_vals.argmax(axis=1), one_hot_pred_vals.argmax(axis=1))\n",
    "labels = ['POSITIVE', 'NEGATIVE']\n",
    "plt.figure(figsize=(15,10))\n",
    "sns.set(font_scale=1.4)\n",
    "sns.heatmap(conf_mx, annot=True, cmap='Blues', xticklabels=labels, yticklabels=labels)\n",
    "plt.show()\n",
    "# plt.matshow(conf_mx, cmap='gray')"
   ]
  },
  {
   "cell_type": "markdown",
   "id": "d4dca4a9-e371-4f98-abfe-10feee622bef",
   "metadata": {},
   "source": [
    "# Conclusion"
   ]
  },
  {
   "cell_type": "markdown",
   "id": "80b8fa9a-1aab-45eb-84b6-aaa667350aed",
   "metadata": {},
   "source": [
    "Using the Huggingface Model with the IMDB Reviews dataset resulted in a good prediction performance. The scores in precision, recall, and F1-Score are around 90%. This can be used to future review entries and check with minimal supervision to validate the model's result."
   ]
  }
 ],
 "metadata": {
  "kernelspec": {
   "display_name": "Python 3 (ipykernel)",
   "language": "python",
   "name": "python3"
  },
  "language_info": {
   "codemirror_mode": {
    "name": "ipython",
    "version": 3
   },
   "file_extension": ".py",
   "mimetype": "text/x-python",
   "name": "python",
   "nbconvert_exporter": "python",
   "pygments_lexer": "ipython3",
   "version": "3.9.12"
  }
 },
 "nbformat": 4,
 "nbformat_minor": 5
}
